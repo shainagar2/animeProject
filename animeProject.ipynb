{
 "cells": [
  {
   "cell_type": "code",
   "execution_count": 63,
   "id": "6e418421",
   "metadata": {},
   "outputs": [],
   "source": [
    "import pandas as pd\n",
    "import numpy as np\n",
    "import requests\n",
    "import json\n",
    "from selenium import webdriver\n",
    "from selenium.webdriver.common.keys import Keys\n",
    "from selenium.webdriver.common.by import By\n",
    "from selenium.webdriver.support.wait import WebDriverWait\n",
    "from selenium.webdriver.support import expected_conditions as EC\n",
    "import time\n",
    "from time import sleep\n",
    "from random import randint"
   ]
  },
  {
   "cell_type": "code",
   "execution_count": 72,
   "id": "7b941930",
   "metadata": {},
   "outputs": [
    {
     "name": "stdout",
     "output_type": "stream",
     "text": [
      "      Unnamed: 0                                  anime name  \\\n",
      "0              0            Fullmetal Alchemist: Brotherhood   \n",
      "1              1                   Bleach: Sennen Kessen-hen   \n",
      "2              2                                 Steins;Gate   \n",
      "3              3                                    Gintama°   \n",
      "4              4  Kaguya-sama wa Kokurasetai: Ultra Romantic   \n",
      "...          ...                                         ...   \n",
      "4995        4995                 Karakuri Kiden: Hiwou Senki   \n",
      "4996        4996                                        22/7   \n",
      "4997        4997                            Bakuretsu Tenshi   \n",
      "4998        4998                     Bem Movie: Become Human   \n",
      "4999        4999                    Buzzer Beater 2nd Season   \n",
      "\n",
      "                                     link_to_anime_page  \n",
      "0     https://myanimelist.net/anime/5114/Fullmetal_A...  \n",
      "1     https://myanimelist.net/anime/41467/Bleach__Se...  \n",
      "2        https://myanimelist.net/anime/9253/Steins_Gate  \n",
      "3     https://myanimelist.net/anime/28977/Gintama%C2%B0  \n",
      "4     https://myanimelist.net/anime/43608/Kaguya-sam...  \n",
      "...                                                 ...  \n",
      "4995  https://myanimelist.net/anime/3935/Karakuri_Ki...  \n",
      "4996           https://myanimelist.net/anime/40148/22_7  \n",
      "4997  https://myanimelist.net/anime/109/Bakuretsu_Te...  \n",
      "4998  https://myanimelist.net/anime/42129/Bem_Movie_...  \n",
      "4999  https://myanimelist.net/anime/2684/Buzzer_Beat...  \n",
      "\n",
      "[5000 rows x 3 columns]\n"
     ]
    }
   ],
   "source": [
    "anime_name=list()\n",
    "link_to_anime_page=list()\n",
    "anime_genres=list()\n",
    "anime_type=list() #types for example:tv,movie,Original video animation\n",
    "anime_status=list() #status of the Airing\n",
    "anime_aired=list() \n",
    "anime_broadcast=list() \n",
    "anime_licensors=list()\n",
    "anime_source=list()\n",
    "anime_duration=list()\n",
    "anime_members=list()\n",
    "anime_favorites=list()\n",
    "anime_pg=list()\n",
    "anime_popularity=list()\n",
    "anime_scored_by=list()\n",
    "anime_score=list()\n",
    "\n",
    "df = pd.read_csv('anime_data.csv')\n",
    "print(df)"
   ]
  },
  {
   "cell_type": "code",
   "execution_count": 103,
   "id": "94e92f10",
   "metadata": {},
   "outputs": [
    {
     "name": "stderr",
     "output_type": "stream",
     "text": [
      "C:\\Users\\Shay\\AppData\\Local\\Temp\\ipykernel_7780\\2445487834.py:3: DeprecationWarning: executable_path has been deprecated, please pass in a Service object\n",
      "  driver = webdriver.Chrome(PATH)\n"
     ]
    },
    {
     "ename": "ValueError",
     "evalue": "All arrays must be of the same length",
     "output_type": "error",
     "traceback": [
      "\u001b[1;31m---------------------------------------------------------------------------\u001b[0m",
      "\u001b[1;31mValueError\u001b[0m                                Traceback (most recent call last)",
      "\u001b[1;32m~\\AppData\\Local\\Temp\\ipykernel_7780\\2445487834.py\u001b[0m in \u001b[0;36m<module>\u001b[1;34m\u001b[0m\n\u001b[0;32m     34\u001b[0m     \u001b[1;32mexcept\u001b[0m\u001b[1;33m:\u001b[0m\u001b[1;33m\u001b[0m\u001b[1;33m\u001b[0m\u001b[0m\n\u001b[0;32m     35\u001b[0m         \u001b[0mdriver\u001b[0m\u001b[1;33m.\u001b[0m\u001b[0mquit\u001b[0m\u001b[1;33m(\u001b[0m\u001b[1;33m)\u001b[0m\u001b[1;33m\u001b[0m\u001b[1;33m\u001b[0m\u001b[0m\n\u001b[1;32m---> 36\u001b[1;33m df= pd.DataFrame({'anime name':anime_name,\n\u001b[0m\u001b[0;32m     37\u001b[0m                 \u001b[1;34m'link_to_anime_page'\u001b[0m\u001b[1;33m:\u001b[0m\u001b[0mlink_to_anime_page\u001b[0m\u001b[1;33m,\u001b[0m\u001b[1;33m\u001b[0m\u001b[1;33m\u001b[0m\u001b[0m\n\u001b[0;32m     38\u001b[0m                 \u001b[1;34m'anime_genres'\u001b[0m\u001b[1;33m:\u001b[0m\u001b[0manime_genres\u001b[0m\u001b[1;33m,\u001b[0m\u001b[1;33m\u001b[0m\u001b[1;33m\u001b[0m\u001b[0m\n",
      "\u001b[1;32m~\\anaconda3\\lib\\site-packages\\pandas\\core\\frame.py\u001b[0m in \u001b[0;36m__init__\u001b[1;34m(self, data, index, columns, dtype, copy)\u001b[0m\n\u001b[0;32m    634\u001b[0m         \u001b[1;32melif\u001b[0m \u001b[0misinstance\u001b[0m\u001b[1;33m(\u001b[0m\u001b[0mdata\u001b[0m\u001b[1;33m,\u001b[0m \u001b[0mdict\u001b[0m\u001b[1;33m)\u001b[0m\u001b[1;33m:\u001b[0m\u001b[1;33m\u001b[0m\u001b[1;33m\u001b[0m\u001b[0m\n\u001b[0;32m    635\u001b[0m             \u001b[1;31m# GH#38939 de facto copy defaults to False only in non-dict cases\u001b[0m\u001b[1;33m\u001b[0m\u001b[1;33m\u001b[0m\u001b[0m\n\u001b[1;32m--> 636\u001b[1;33m             \u001b[0mmgr\u001b[0m \u001b[1;33m=\u001b[0m \u001b[0mdict_to_mgr\u001b[0m\u001b[1;33m(\u001b[0m\u001b[0mdata\u001b[0m\u001b[1;33m,\u001b[0m \u001b[0mindex\u001b[0m\u001b[1;33m,\u001b[0m \u001b[0mcolumns\u001b[0m\u001b[1;33m,\u001b[0m \u001b[0mdtype\u001b[0m\u001b[1;33m=\u001b[0m\u001b[0mdtype\u001b[0m\u001b[1;33m,\u001b[0m \u001b[0mcopy\u001b[0m\u001b[1;33m=\u001b[0m\u001b[0mcopy\u001b[0m\u001b[1;33m,\u001b[0m \u001b[0mtyp\u001b[0m\u001b[1;33m=\u001b[0m\u001b[0mmanager\u001b[0m\u001b[1;33m)\u001b[0m\u001b[1;33m\u001b[0m\u001b[1;33m\u001b[0m\u001b[0m\n\u001b[0m\u001b[0;32m    637\u001b[0m         \u001b[1;32melif\u001b[0m \u001b[0misinstance\u001b[0m\u001b[1;33m(\u001b[0m\u001b[0mdata\u001b[0m\u001b[1;33m,\u001b[0m \u001b[0mma\u001b[0m\u001b[1;33m.\u001b[0m\u001b[0mMaskedArray\u001b[0m\u001b[1;33m)\u001b[0m\u001b[1;33m:\u001b[0m\u001b[1;33m\u001b[0m\u001b[1;33m\u001b[0m\u001b[0m\n\u001b[0;32m    638\u001b[0m             \u001b[1;32mimport\u001b[0m \u001b[0mnumpy\u001b[0m\u001b[1;33m.\u001b[0m\u001b[0mma\u001b[0m\u001b[1;33m.\u001b[0m\u001b[0mmrecords\u001b[0m \u001b[1;32mas\u001b[0m \u001b[0mmrecords\u001b[0m\u001b[1;33m\u001b[0m\u001b[1;33m\u001b[0m\u001b[0m\n",
      "\u001b[1;32m~\\anaconda3\\lib\\site-packages\\pandas\\core\\internals\\construction.py\u001b[0m in \u001b[0;36mdict_to_mgr\u001b[1;34m(data, index, columns, dtype, typ, copy)\u001b[0m\n\u001b[0;32m    500\u001b[0m         \u001b[1;31m# TODO: can we get rid of the dt64tz special case above?\u001b[0m\u001b[1;33m\u001b[0m\u001b[1;33m\u001b[0m\u001b[0m\n\u001b[0;32m    501\u001b[0m \u001b[1;33m\u001b[0m\u001b[0m\n\u001b[1;32m--> 502\u001b[1;33m     \u001b[1;32mreturn\u001b[0m \u001b[0marrays_to_mgr\u001b[0m\u001b[1;33m(\u001b[0m\u001b[0marrays\u001b[0m\u001b[1;33m,\u001b[0m \u001b[0mcolumns\u001b[0m\u001b[1;33m,\u001b[0m \u001b[0mindex\u001b[0m\u001b[1;33m,\u001b[0m \u001b[0mdtype\u001b[0m\u001b[1;33m=\u001b[0m\u001b[0mdtype\u001b[0m\u001b[1;33m,\u001b[0m \u001b[0mtyp\u001b[0m\u001b[1;33m=\u001b[0m\u001b[0mtyp\u001b[0m\u001b[1;33m,\u001b[0m \u001b[0mconsolidate\u001b[0m\u001b[1;33m=\u001b[0m\u001b[0mcopy\u001b[0m\u001b[1;33m)\u001b[0m\u001b[1;33m\u001b[0m\u001b[1;33m\u001b[0m\u001b[0m\n\u001b[0m\u001b[0;32m    503\u001b[0m \u001b[1;33m\u001b[0m\u001b[0m\n\u001b[0;32m    504\u001b[0m \u001b[1;33m\u001b[0m\u001b[0m\n",
      "\u001b[1;32m~\\anaconda3\\lib\\site-packages\\pandas\\core\\internals\\construction.py\u001b[0m in \u001b[0;36marrays_to_mgr\u001b[1;34m(arrays, columns, index, dtype, verify_integrity, typ, consolidate)\u001b[0m\n\u001b[0;32m    118\u001b[0m         \u001b[1;31m# figure out the index, if necessary\u001b[0m\u001b[1;33m\u001b[0m\u001b[1;33m\u001b[0m\u001b[0m\n\u001b[0;32m    119\u001b[0m         \u001b[1;32mif\u001b[0m \u001b[0mindex\u001b[0m \u001b[1;32mis\u001b[0m \u001b[1;32mNone\u001b[0m\u001b[1;33m:\u001b[0m\u001b[1;33m\u001b[0m\u001b[1;33m\u001b[0m\u001b[0m\n\u001b[1;32m--> 120\u001b[1;33m             \u001b[0mindex\u001b[0m \u001b[1;33m=\u001b[0m \u001b[0m_extract_index\u001b[0m\u001b[1;33m(\u001b[0m\u001b[0marrays\u001b[0m\u001b[1;33m)\u001b[0m\u001b[1;33m\u001b[0m\u001b[1;33m\u001b[0m\u001b[0m\n\u001b[0m\u001b[0;32m    121\u001b[0m         \u001b[1;32melse\u001b[0m\u001b[1;33m:\u001b[0m\u001b[1;33m\u001b[0m\u001b[1;33m\u001b[0m\u001b[0m\n\u001b[0;32m    122\u001b[0m             \u001b[0mindex\u001b[0m \u001b[1;33m=\u001b[0m \u001b[0mensure_index\u001b[0m\u001b[1;33m(\u001b[0m\u001b[0mindex\u001b[0m\u001b[1;33m)\u001b[0m\u001b[1;33m\u001b[0m\u001b[1;33m\u001b[0m\u001b[0m\n",
      "\u001b[1;32m~\\anaconda3\\lib\\site-packages\\pandas\\core\\internals\\construction.py\u001b[0m in \u001b[0;36m_extract_index\u001b[1;34m(data)\u001b[0m\n\u001b[0;32m    672\u001b[0m             \u001b[0mlengths\u001b[0m \u001b[1;33m=\u001b[0m \u001b[0mlist\u001b[0m\u001b[1;33m(\u001b[0m\u001b[0mset\u001b[0m\u001b[1;33m(\u001b[0m\u001b[0mraw_lengths\u001b[0m\u001b[1;33m)\u001b[0m\u001b[1;33m)\u001b[0m\u001b[1;33m\u001b[0m\u001b[1;33m\u001b[0m\u001b[0m\n\u001b[0;32m    673\u001b[0m             \u001b[1;32mif\u001b[0m \u001b[0mlen\u001b[0m\u001b[1;33m(\u001b[0m\u001b[0mlengths\u001b[0m\u001b[1;33m)\u001b[0m \u001b[1;33m>\u001b[0m \u001b[1;36m1\u001b[0m\u001b[1;33m:\u001b[0m\u001b[1;33m\u001b[0m\u001b[1;33m\u001b[0m\u001b[0m\n\u001b[1;32m--> 674\u001b[1;33m                 \u001b[1;32mraise\u001b[0m \u001b[0mValueError\u001b[0m\u001b[1;33m(\u001b[0m\u001b[1;34m\"All arrays must be of the same length\"\u001b[0m\u001b[1;33m)\u001b[0m\u001b[1;33m\u001b[0m\u001b[1;33m\u001b[0m\u001b[0m\n\u001b[0m\u001b[0;32m    675\u001b[0m \u001b[1;33m\u001b[0m\u001b[0m\n\u001b[0;32m    676\u001b[0m             \u001b[1;32mif\u001b[0m \u001b[0mhave_dicts\u001b[0m\u001b[1;33m:\u001b[0m\u001b[1;33m\u001b[0m\u001b[1;33m\u001b[0m\u001b[0m\n",
      "\u001b[1;31mValueError\u001b[0m: All arrays must be of the same length"
     ]
    }
   ],
   "source": [
    "website = \"https://myanimelist.net/topanime.php\"\n",
    "PATH = \"C:\\Program Files (x86)\\chromedriver.exe\"\n",
    "driver = webdriver.Chrome(PATH)\n",
    "driver.get(website)\n",
    "\n",
    "for x in range(100):\n",
    "    matches = driver.find_elements('xpath', '//tr/td[2]/div/div[2]/h3/a')\n",
    "    for match in matches:\n",
    "        name = match.text\n",
    "        anime_name.append(name)\n",
    "        link = match.get_attribute('href')\n",
    "        link_to_anime_page.append(link)\n",
    "    try:\n",
    "        element = WebDriverWait(driver, 30).until(\n",
    "        EC.presence_of_element_located((By.LINK_TEXT, \"Next 50\"))\n",
    "        )\n",
    "        element.click()\n",
    "    except:\n",
    "        driver.quit()\n",
    "\n",
    "df= pd.DataFrame({'anime name':anime_name,\n",
    "                'link_to_anime_page':link_to_anime_page})\n",
    "df.to_csv('anime_data.csv')\n",
    "print(df)"
   ]
  },
  {
   "cell_type": "code",
   "execution_count": 109,
   "id": "2fa26555",
   "metadata": {},
   "outputs": [
    {
     "name": "stderr",
     "output_type": "stream",
     "text": [
      "C:\\Users\\Shay\\AppData\\Local\\Temp\\ipykernel_3036\\918154634.py:4: DeprecationWarning: executable_path has been deprecated, please pass in a Service object\n",
      "  driver = webdriver.Chrome(PATH)\n"
     ]
    },
    {
     "ename": "KeyboardInterrupt",
     "evalue": "",
     "output_type": "error",
     "traceback": [
      "\u001b[1;31m---------------------------------------------------------------------------\u001b[0m",
      "\u001b[1;31mKeyboardInterrupt\u001b[0m                         Traceback (most recent call last)",
      "\u001b[1;32m~\\AppData\\Local\\Temp\\ipykernel_3036\\918154634.py\u001b[0m in \u001b[0;36m<module>\u001b[1;34m\u001b[0m\n\u001b[0;32m      4\u001b[0m     \u001b[0mdriver\u001b[0m \u001b[1;33m=\u001b[0m \u001b[0mwebdriver\u001b[0m\u001b[1;33m.\u001b[0m\u001b[0mChrome\u001b[0m\u001b[1;33m(\u001b[0m\u001b[0mPATH\u001b[0m\u001b[1;33m)\u001b[0m\u001b[1;33m\u001b[0m\u001b[1;33m\u001b[0m\u001b[0m\n\u001b[0;32m      5\u001b[0m     \u001b[0mdriver\u001b[0m\u001b[1;33m.\u001b[0m\u001b[0mget\u001b[0m\u001b[1;33m(\u001b[0m\u001b[0mwebsite\u001b[0m\u001b[1;33m)\u001b[0m\u001b[1;33m\u001b[0m\u001b[1;33m\u001b[0m\u001b[0m\n\u001b[1;32m----> 6\u001b[1;33m     \u001b[0msleep\u001b[0m\u001b[1;33m(\u001b[0m\u001b[0mrandint\u001b[0m\u001b[1;33m(\u001b[0m\u001b[1;36m1\u001b[0m\u001b[1;33m,\u001b[0m\u001b[1;36m4\u001b[0m\u001b[1;33m)\u001b[0m\u001b[1;33m)\u001b[0m\u001b[1;33m\u001b[0m\u001b[1;33m\u001b[0m\u001b[0m\n\u001b[0m",
      "\u001b[1;31mKeyboardInterrupt\u001b[0m: "
     ]
    }
   ],
   "source": [
    "PATH = \"C:\\Program Files (x86)\\chromedriver.exe\"\n",
    "for x in range(5000):\n",
    "    website=df.iloc[x][2]\n",
    "    driver = webdriver.Chrome(PATH)\n",
    "    driver.get(website)\n",
    "    sleep(randint(1,4))"
   ]
  },
  {
   "cell_type": "code",
   "execution_count": 73,
   "id": "8d93f548",
   "metadata": {
    "scrolled": false
   },
   "outputs": [
    {
     "name": "stderr",
     "output_type": "stream",
     "text": [
      "C:\\Users\\Shay\\AppData\\Local\\Temp\\ipykernel_3036\\36929903.py:4: DeprecationWarning: executable_path has been deprecated, please pass in a Service object\n",
      "  driver = webdriver.Chrome(PATH)\n"
     ]
    },
    {
     "ename": "AttributeError",
     "evalue": "'list' object has no attribute 'text'",
     "output_type": "error",
     "traceback": [
      "\u001b[1;31m---------------------------------------------------------------------------\u001b[0m",
      "\u001b[1;31mAttributeError\u001b[0m                            Traceback (most recent call last)",
      "\u001b[1;32m~\\AppData\\Local\\Temp\\ipykernel_3036\\36929903.py\u001b[0m in \u001b[0;36m<module>\u001b[1;34m\u001b[0m\n\u001b[0;32m      5\u001b[0m \u001b[0mdriver\u001b[0m\u001b[1;33m.\u001b[0m\u001b[0mget\u001b[0m\u001b[1;33m(\u001b[0m\u001b[0mwebsite\u001b[0m\u001b[1;33m)\u001b[0m\u001b[1;33m\u001b[0m\u001b[1;33m\u001b[0m\u001b[0m\n\u001b[0;32m      6\u001b[0m \u001b[0mgenres\u001b[0m\u001b[1;33m=\u001b[0m\u001b[0mdriver\u001b[0m\u001b[1;33m.\u001b[0m\u001b[0mfind_elements\u001b[0m\u001b[1;33m(\u001b[0m\u001b[1;34m'xpath'\u001b[0m\u001b[1;33m,\u001b[0m \u001b[1;34m'//tr/td/div/div[19]/a'\u001b[0m\u001b[1;33m)\u001b[0m\u001b[1;33m\u001b[0m\u001b[1;33m\u001b[0m\u001b[0m\n\u001b[1;32m----> 7\u001b[1;33m \u001b[0mgenres_text\u001b[0m\u001b[1;33m=\u001b[0m\u001b[0mgenres\u001b[0m\u001b[1;33m.\u001b[0m\u001b[0mtext\u001b[0m\u001b[1;33m\u001b[0m\u001b[1;33m\u001b[0m\u001b[0m\n\u001b[0m\u001b[0;32m      8\u001b[0m \u001b[0manime_genres\u001b[0m\u001b[1;33m.\u001b[0m\u001b[0mappend\u001b[0m\u001b[1;33m(\u001b[0m\u001b[0mgenres_text\u001b[0m\u001b[1;33m)\u001b[0m\u001b[1;33m\u001b[0m\u001b[1;33m\u001b[0m\u001b[0m\n\u001b[0;32m      9\u001b[0m \u001b[0mtype1\u001b[0m\u001b[1;33m=\u001b[0m\u001b[0mdriver\u001b[0m\u001b[1;33m.\u001b[0m\u001b[0mfind_elements\u001b[0m\u001b[1;33m(\u001b[0m\u001b[1;34m'xpath'\u001b[0m\u001b[1;33m,\u001b[0m \u001b[1;34m'//tr/td/div/div[9]/a'\u001b[0m\u001b[1;33m)\u001b[0m\u001b[1;33m\u001b[0m\u001b[1;33m\u001b[0m\u001b[0m\n",
      "\u001b[1;31mAttributeError\u001b[0m: 'list' object has no attribute 'text'"
     ]
    }
   ],
   "source": [
    "PATH = \"C:\\Program Files (x86)\\chromedriver.exe\"\n",
    "#for x in range(2):\n",
    "website=df.iloc[0][2]\n",
    "driver = webdriver.Chrome(PATH)\n",
    "driver.get(website)\n",
    "genres=driver.find_elements('xpath', '//tr/td/div/div[19]/a[1]')\n",
    "genres_text=genres.text\n",
    "anime_genres.append(genres_text)\n",
    "type1=driver.find_elements('xpath', '//tr/td/div/div[9]/a')\n",
    "type1_text=type1.text\n",
    "anime_type.append(type1_text)\n",
    "status_text=driver.find_elements('xpath', '//tr/td/div/div[11]')\n",
    "anime_status.append(status_text)\n",
    "aired_text=driver.find_elements('xpath', '//tr/td/div/div[12]')\n",
    "anime_aired.append(aired_text)\n",
    "broadcast_text=driver.find_elements('xpath', '//tr/td/div/div[14]')\n",
    "anime_broadcast.append(broadcast_text)\n",
    "licensors_text=driver.find_elements('xpath', '//tr/td/div/div[16]/a')\n",
    "anime_licensors.append(licensors_text)\n",
    "source_text=driver.find_elements('xpath', '//tr/td/div/div[18]')\n",
    "anime_source.append(source_text)\n",
    "duration_text=driver.find_elements('xpath', '//tr/td/div/div[22]')\n",
    "anime_duration.append(duration_text)\n",
    "members_text=driver.find_elements('xpath', '//tr/td/div/div[27]')\n",
    "anime_members.append(members_text)\n",
    "favorites_text=driver.find_elements('xpath', '//tr/td/div/div[28]')\n",
    "anime_favorites.append(favorites_text)\n",
    "pg_text=driver.find_elements('xpath', '//tr/td/div/div[23]')\n",
    "anime_pg.append(pg_text)\n",
    "popularity_text=driver.find_elements('xpath', '//tr/td/div/div[26]')\n",
    "anime_popularity.append(popularity_text)\n",
    "scored_by_text=driver.find_elements('xpath', '//tr/td/div/div[24]/span[3]')\n",
    "anime_scored_by.append(scored_by_text)\n",
    "score_text=driver.find_elements('xpath', '//tr/td/div/div[24]/span[2]')\n",
    "anime_score.append(score_text)\n",
    " #   sleep(randint(2,10))"
   ]
  },
  {
   "cell_type": "code",
   "execution_count": null,
   "id": "3d8f42e6",
   "metadata": {},
   "outputs": [],
   "source": [
    "df1= pd.DataFrame({'anime name':anime_name,\n",
    "                'link_to_anime_page':link_to_anime_page,\n",
    "                'anime_genres':anime_genres,\n",
    "                'anime_type':anime_type,\n",
    "                'anime_status':anime_status,\n",
    "                'anime_aired':anime_aired,\n",
    "                'anime_broadcast':anime_broadcast,\n",
    "                'anime_licensors':anime_licensors,\n",
    "                'anime_source':anime_source,\n",
    "                'anime_duration':anime_duration,\n",
    "                'anime_members':anime_members,\n",
    "                'anime_favorites':anime_favorites,\n",
    "                'anime_pg':anime_pg,\n",
    "                'anime_popularity':anime_popularity,\n",
    "                'anime_scored_by':anime_scored_by,\n",
    "                'anime_score':anime_score})\n",
    "df1.to_csv('anime_data1.csv')\n",
    "print(df1)"
   ]
  },
  {
   "cell_type": "code",
   "execution_count": 113,
   "id": "b0102984",
   "metadata": {},
   "outputs": [
    {
     "ename": "SyntaxError",
     "evalue": "invalid syntax (1458079506.py, line 9)",
     "output_type": "error",
     "traceback": [
      "\u001b[1;36m  File \u001b[1;32m\"C:\\Users\\Shay\\AppData\\Local\\Temp\\ipykernel_3036\\1458079506.py\"\u001b[1;36m, line \u001b[1;32m9\u001b[0m\n\u001b[1;33m    if genres.get_attribute(itemprop)=='genre'\u001b[0m\n\u001b[1;37m                                              ^\u001b[0m\n\u001b[1;31mSyntaxError\u001b[0m\u001b[1;31m:\u001b[0m invalid syntax\n"
     ]
    }
   ],
   "source": [
    "PATH = \"C:\\Program Files (x86)\\chromedriver.exe\"\n",
    "anime_genres=[]\n",
    "for x in range(2):\n",
    "    website=df.iloc[x][2]\n",
    "    driver = webdriver.Chrome(PATH)\n",
    "    driver.get(website)\n",
    "    anime_genres_temp=[]\n",
    "    genres=driver.find_elements('text', 'genres:')\n",
    "        for genre in genres:\n",
    "            anime_genres_temp.append(genre.get_attribute(\"title\"))\n",
    "    anime_genres.append(anime_genres_temp)\n",
    "    sleep(randint(1,3))\n",
    "print(anime_genres)\n",
    "driver.quit()"
   ]
  },
  {
   "cell_type": "code",
   "execution_count": null,
   "id": "f0547a3c",
   "metadata": {},
   "outputs": [],
   "source": [
    "PATH = \"C:\\Program Files (x86)\\chromedriver.exe\"\n",
    "for x in range(3):\n",
    "    website=df.iloc[x][2]\n",
    "    driver=webdriver.Chrome(PATH)\n",
    "    driver.get(website)\n",
    "    genres\n",
    "    genres_test=genres.text\n",
    "    anime_genres.append(genres_text)\n",
    "    sleep(randint(2,10))\n",
    "    driver.quit()"
   ]
  },
  {
   "cell_type": "code",
   "execution_count": 4,
   "id": "ab0fc9bd",
   "metadata": {},
   "outputs": [
    {
     "ename": "NameError",
     "evalue": "name 'driver' is not defined",
     "output_type": "error",
     "traceback": [
      "\u001b[1;31m---------------------------------------------------------------------------\u001b[0m",
      "\u001b[1;31mNameError\u001b[0m                                 Traceback (most recent call last)",
      "\u001b[1;32m~\\AppData\\Local\\Temp\\ipykernel_7780\\3600184915.py\u001b[0m in \u001b[0;36m<module>\u001b[1;34m\u001b[0m\n\u001b[1;32m----> 1\u001b[1;33m \u001b[0mprint\u001b[0m\u001b[1;33m(\u001b[0m\u001b[0mdriver\u001b[0m\u001b[1;33m.\u001b[0m\u001b[0mtitle\u001b[0m\u001b[1;33m)\u001b[0m\u001b[1;33m\u001b[0m\u001b[1;33m\u001b[0m\u001b[0m\n\u001b[0m\u001b[0;32m      2\u001b[0m \u001b[1;33m\u001b[0m\u001b[0m\n\u001b[0;32m      3\u001b[0m \u001b[0manimeList\u001b[0m \u001b[1;33m=\u001b[0m \u001b[0mdriver\u001b[0m\u001b[1;33m.\u001b[0m\u001b[0mfind_elements\u001b[0m\u001b[1;33m(\u001b[0m\u001b[0mPATH\u001b[0m\u001b[1;33m,\u001b[0m \u001b[1;34m\"//tbody/tr/td[2]/div/a[@class='hoverinfo_trigger fw-b fl-l']\"\u001b[0m\u001b[1;33m)\u001b[0m\u001b[1;33m\u001b[0m\u001b[1;33m\u001b[0m\u001b[0m\n\u001b[0;32m      4\u001b[0m \u001b[1;32mfor\u001b[0m \u001b[0manime\u001b[0m \u001b[1;32min\u001b[0m \u001b[0manimeList\u001b[0m\u001b[1;33m:\u001b[0m\u001b[1;33m\u001b[0m\u001b[1;33m\u001b[0m\u001b[0m\n\u001b[0;32m      5\u001b[0m     \u001b[0mlink\u001b[0m \u001b[1;33m=\u001b[0m \u001b[0mdriver\u001b[0m\u001b[1;33m.\u001b[0m\u001b[0mfind_element\u001b[0m\u001b[1;33m(\u001b[0m\u001b[0mBy\u001b[0m\u001b[1;33m.\u001b[0m\u001b[0mLINK_TEXT\u001b[0m\u001b[1;33m(\u001b[0m\u001b[1;34m\"Next 50\"\u001b[0m\u001b[1;33m)\u001b[0m\u001b[1;33m)\u001b[0m\u001b[1;33m.\u001b[0m\u001b[0mclick\u001b[0m\u001b[1;33m(\u001b[0m\u001b[1;33m)\u001b[0m\u001b[1;33m;\u001b[0m\u001b[1;33m\u001b[0m\u001b[1;33m\u001b[0m\u001b[0m\n",
      "\u001b[1;31mNameError\u001b[0m: name 'driver' is not defined"
     ]
    }
   ],
   "source": [
    "df1= pd.DataFrame({'anime name':anime_name,\n",
    "                'link_to_anime_page':link_to_anime_page,\n",
    "                'anime_genres':anime_genres,\n",
    "                'anime_type':anime_type,\n",
    "                'anime_status':anime_status,\n",
    "                'anime_aired':anime_aired,\n",
    "                'anime_broadcast':anime_broadcast,\n",
    "                'anime_licensors':anime_licensors,\n",
    "                'anime_source':anime_source,\n",
    "                'anime_duration':anime_duration,\n",
    "                'anime_members':anime_members,\n",
    "                'anime_favorites':anime_favorites,\n",
    "                'anime_pg':anime_pg,\n",
    "                'anime_popularity':anime_popularity,\n",
    "                'anime_scored_by':anime_scored_by,\n",
    "                'anime_score':anime_score})\n",
    "df1.to_csv('anime_data1.csv')\n",
    "print(df1)\n",
    "df= pd.DataFrame({'anime name':anime_name,\n",
    "                'link_to_anime_page':link_to_anime_page,\n",
    "                'anime_genres':anime_genres,\n",
    "                'anime_type':anime_type,\n",
    "                'anime_status':anime_status,\n",
    "                'anime_aired':anime_aired,\n",
    "                'anime_broadcast':anime_broadcast,\n",
    "                'anime_licensors':anime_licensors,\n",
    "                'anime_source':anime_source,\n",
    "                'anime_duration':anime_duration,\n",
    "                'anime_members':anime_members,\n",
    "                'anime_favorites':anime_favorites,\n",
    "                'anime_pg':anime_pg,\n",
    "                'anime_popularity':anime_popularity,\n",
    "                'anime_scored_by':anime_scored_by,\n",
    "                'anime_score':anime_score})\n",
    "df.to_csv('anime_data.csv')\n",
    "print(df)"
   ]
  },
  {
   "cell_type": "code",
   "execution_count": 99,
   "id": "fae011d0",
   "metadata": {},
   "outputs": [
    {
     "name": "stderr",
     "output_type": "stream",
     "text": [
      "C:\\Users\\Shay\\AppData\\Local\\Temp\\ipykernel_7780\\165975671.py:3: DeprecationWarning: executable_path has been deprecated, please pass in a Service object\n",
      "  driver = webdriver.Chrome(PATH)\n"
     ]
    }
   ],
   "source": [
    "website = \"https://myanimelist.net/topanime.php\"\n",
    "PATH = \"C:\\Program Files (x86)\\chromedriver.exe\"\n",
    "driver = webdriver.Chrome(PATH)\n",
    "driver.get(website)\n",
    "\n",
    "for x in range(100):\n",
    "    try:\n",
    "            element = WebDriverWait(driver, 30).until(\n",
    "            EC.presence_of_element_located((By.LINK_TEXT, \"Next 50\"))\n",
    "        )\n",
    "            element.click()\n",
    "    except:\n",
    "        driver.quit()"
   ]
  },
  {
   "cell_type": "code",
   "execution_count": null,
   "id": "8d0035c6",
   "metadata": {},
   "outputs": [],
   "source": [
    "try:\n",
    "        element = WebDriverWait(driver, 30).until(\n",
    "        EC.presence_of_element_located((By.LINK_TEXT, \"Next 50\"))\n",
    "    )\n",
    "        element.click()\n",
    "    \n",
    "\n",
    "\n",
    "finally:\n",
    "    driver.quit()\n",
    "    #driver.back()\n",
    "    #driver.forward()\n",
    "#except:\n",
    "\n",
    "\n",
    "        element = WebDriverWait(driver, 30).until(\n",
    "        EC.presence_of_element_located((By.LINK_TEXT, \"Next 50\"))\n",
    "    )\n",
    "    element.click()\n",
    "\n",
    "print(driver.title)\n",
    "\n",
    "animeList = driver.find_elements(PATH, \"//tbody/tr/td[2]/div/a[@class='hoverinfo_trigger fw-b fl-l']\")\n",
    "for anime in animeList:\n",
    "    link = driver.find_element(By.LINK_TEXT(\"Next 50\")).click();\n",
    "    print(anime.get_attribute(\"href\"))\n",
    "\n",
    "\n",
    "driver.quit()"
   ]
  }
 ],
 "metadata": {
  "kernelspec": {
   "display_name": "Python 3 (ipykernel)",
   "language": "python",
   "name": "python3"
  },
  "language_info": {
   "codemirror_mode": {
    "name": "ipython",
    "version": 3
   },
   "file_extension": ".py",
   "mimetype": "text/x-python",
   "name": "python",
   "nbconvert_exporter": "python",
   "pygments_lexer": "ipython3",
   "version": "3.9.13"
  }
 },
 "nbformat": 4,
 "nbformat_minor": 5
}
